{
 "cells": [
  {
   "cell_type": "code",
   "execution_count": 1,
   "id": "ad137336",
   "metadata": {},
   "outputs": [],
   "source": [
    "import pmagpy.ipmag as ipmag\n",
    "import pmagpy.contribution_builder as cb\n",
    "import pandas as pd\n",
    "pd.set_option('display.max_rows', None)\n",
    "pd.set_option('display.max_columns', None)\n",
    "\n",
    "IRMdb_path = '../data/IRM_DB_export'\n",
    "MagIC_export_path = '../data/MagIC'"
   ]
  },
  {
   "cell_type": "code",
   "execution_count": 2,
   "id": "935e1181",
   "metadata": {},
   "outputs": [
    {
     "name": "stdout",
     "output_type": "stream",
     "text": [
      "working on:  'specimens'\n",
      "2  records written to file  /Users/yimingzhang/Github/RMB-nanophases/data/IRM_DB_export/specimens.txt\n",
      "specimens  data put in  /Users/yimingzhang/Github/RMB-nanophases/data/IRM_DB_export/specimens.txt\n",
      "working on:  'samples'\n",
      "2  records written to file  /Users/yimingzhang/Github/RMB-nanophases/data/IRM_DB_export/samples.txt\n",
      "samples  data put in  /Users/yimingzhang/Github/RMB-nanophases/data/IRM_DB_export/samples.txt\n",
      "working on:  'sites'\n",
      "2  records written to file  /Users/yimingzhang/Github/RMB-nanophases/data/IRM_DB_export/sites.txt\n",
      "sites  data put in  /Users/yimingzhang/Github/RMB-nanophases/data/IRM_DB_export/sites.txt\n",
      "working on:  'locations'\n",
      "1  records written to file  /Users/yimingzhang/Github/RMB-nanophases/data/IRM_DB_export/locations.txt\n",
      "locations  data put in  /Users/yimingzhang/Github/RMB-nanophases/data/IRM_DB_export/locations.txt\n",
      "working on:  'measurements'\n",
      "430  records written to file  /Users/yimingzhang/Github/RMB-nanophases/data/IRM_DB_export/measurements.txt\n",
      "measurements  data put in  /Users/yimingzhang/Github/RMB-nanophases/data/IRM_DB_export/measurements.txt\n"
     ]
    },
    {
     "data": {
      "text/plain": [
       "True"
      ]
     },
     "execution_count": 2,
     "metadata": {},
     "output_type": "execute_result"
    }
   ],
   "source": [
    "IRDdb_MagIC_file = IRMdb_path + '/RMB_nanophases.TXT'\n",
    "ipmag.unpack_magic(IRDdb_MagIC_file, dir_path=IRMdb_path)"
   ]
  },
  {
   "cell_type": "code",
   "execution_count": 3,
   "id": "aae2fb5e",
   "metadata": {},
   "outputs": [
    {
     "name": "stdout",
     "output_type": "stream",
     "text": [
      "-I- Using cached data model\n",
      "-I- Couldn't connect to earthref.org, using cached method codes\n",
      "-I- Using cached method codes\n",
      "-I- Using cached vocabularies\n",
      "-I- Using cached suggested vocabularies\n"
     ]
    }
   ],
   "source": [
    "contribution = cb.Contribution(IRMdb_path)\n",
    "measurements = contribution.tables['measurements'].df\n",
    "specimens = contribution.tables['specimens'].df\n",
    "samples = contribution.tables['samples'].df\n",
    "sites = contribution.tables['sites'].df\n",
    "locations = contribution.tables['locations'].df"
   ]
  },
  {
   "cell_type": "code",
   "execution_count": 4,
   "id": "ec0f73c9",
   "metadata": {},
   "outputs": [
    {
     "data": {
      "text/plain": [
       "'LP-X:LP-X-T:LP-X-F:LP-MST:LP-FC:LP-ZFC:LP-CW-SIRM:LP-MC:LP-CW-SIRM:LP-MW'"
      ]
     },
     "execution_count": 4,
     "metadata": {},
     "output_type": "execute_result"
    }
   ],
   "source": [
    "method_codes_unique = measurements['method_codes'].unique()\n",
    "method_codes = \":\".join(method_codes_unique.tolist())\n",
    "method_codes"
   ]
  },
  {
   "cell_type": "code",
   "execution_count": 5,
   "id": "5758cd02",
   "metadata": {},
   "outputs": [
    {
     "data": {
      "application/vnd.microsoft.datawrangler.viewer.v0+json": {
       "columns": [
        {
         "name": "index",
         "rawType": "int64",
         "type": "integer"
        },
        {
         "name": "Unnamed: 0",
         "rawType": "float64",
         "type": "float"
        },
        {
         "name": "Unnamed: 1",
         "rawType": "float64",
         "type": "float"
        },
        {
         "name": "azimuth",
         "rawType": "float64",
         "type": "float"
        },
        {
         "name": "citations",
         "rawType": "object",
         "type": "string"
        },
        {
         "name": "description",
         "rawType": "float64",
         "type": "float"
        },
        {
         "name": "dip",
         "rawType": "float64",
         "type": "float"
        },
        {
         "name": "height",
         "rawType": "float64",
         "type": "float"
        },
        {
         "name": "lat",
         "rawType": "float64",
         "type": "float"
        },
        {
         "name": "lon",
         "rawType": "float64",
         "type": "float"
        },
        {
         "name": "sample",
         "rawType": "object",
         "type": "string"
        },
        {
         "name": "site",
         "rawType": "object",
         "type": "string"
        },
        {
         "name": "method_codes",
         "rawType": "object",
         "type": "string"
        }
       ],
       "ref": "dca95f0b-9f21-49a3-8f50-c951fbbf4337",
       "rows": [
        [
         "0",
         null,
         null,
         null,
         "This study",
         null,
         null,
         null,
         null,
         null,
         "FerroTec APG 512A",
         "RMB FerroTec APG 512A",
         "FS-H"
        ],
        [
         "1",
         null,
         null,
         null,
         "This study",
         null,
         null,
         null,
         null,
         null,
         "magnetite_BangsLabs_11-nm",
         "RMB magnetite_BangsLabs_11-nm",
         "FS-H"
        ]
       ],
       "shape": {
        "columns": 12,
        "rows": 2
       }
      },
      "text/html": [
       "<div>\n",
       "<style scoped>\n",
       "    .dataframe tbody tr th:only-of-type {\n",
       "        vertical-align: middle;\n",
       "    }\n",
       "\n",
       "    .dataframe tbody tr th {\n",
       "        vertical-align: top;\n",
       "    }\n",
       "\n",
       "    .dataframe thead th {\n",
       "        text-align: right;\n",
       "    }\n",
       "</style>\n",
       "<table border=\"1\" class=\"dataframe\">\n",
       "  <thead>\n",
       "    <tr style=\"text-align: right;\">\n",
       "      <th></th>\n",
       "      <th>Unnamed: 0</th>\n",
       "      <th>Unnamed: 1</th>\n",
       "      <th>azimuth</th>\n",
       "      <th>citations</th>\n",
       "      <th>description</th>\n",
       "      <th>dip</th>\n",
       "      <th>height</th>\n",
       "      <th>lat</th>\n",
       "      <th>lon</th>\n",
       "      <th>sample</th>\n",
       "      <th>site</th>\n",
       "      <th>method_codes</th>\n",
       "    </tr>\n",
       "  </thead>\n",
       "  <tbody>\n",
       "    <tr>\n",
       "      <th>0</th>\n",
       "      <td>NaN</td>\n",
       "      <td>NaN</td>\n",
       "      <td>NaN</td>\n",
       "      <td>This study</td>\n",
       "      <td>NaN</td>\n",
       "      <td>NaN</td>\n",
       "      <td>NaN</td>\n",
       "      <td>NaN</td>\n",
       "      <td>NaN</td>\n",
       "      <td>FerroTec APG 512A</td>\n",
       "      <td>RMB FerroTec APG 512A</td>\n",
       "      <td>FS-H</td>\n",
       "    </tr>\n",
       "    <tr>\n",
       "      <th>1</th>\n",
       "      <td>NaN</td>\n",
       "      <td>NaN</td>\n",
       "      <td>NaN</td>\n",
       "      <td>This study</td>\n",
       "      <td>NaN</td>\n",
       "      <td>NaN</td>\n",
       "      <td>NaN</td>\n",
       "      <td>NaN</td>\n",
       "      <td>NaN</td>\n",
       "      <td>magnetite_BangsLabs_11-nm</td>\n",
       "      <td>RMB magnetite_BangsLabs_11-nm</td>\n",
       "      <td>FS-H</td>\n",
       "    </tr>\n",
       "  </tbody>\n",
       "</table>\n",
       "</div>"
      ],
      "text/plain": [
       "   Unnamed: 0  Unnamed: 1  azimuth   citations  description  dip  height  lat  \\\n",
       "0         NaN         NaN      NaN  This study          NaN  NaN     NaN  NaN   \n",
       "1         NaN         NaN      NaN  This study          NaN  NaN     NaN  NaN   \n",
       "\n",
       "   lon                     sample                           site method_codes  \n",
       "0  NaN          FerroTec APG 512A          RMB FerroTec APG 512A         FS-H  \n",
       "1  NaN  magnetite_BangsLabs_11-nm  RMB magnetite_BangsLabs_11-nm         FS-H  "
      ]
     },
     "execution_count": 5,
     "metadata": {},
     "output_type": "execute_result"
    }
   ],
   "source": [
    "unique_samples = pd.Series(specimens['sample'].unique())\n",
    "missing_samples = unique_samples[~unique_samples.isin(samples['sample'])]\n",
    "new_rows = pd.DataFrame({'sample': missing_samples})\n",
    "samples = pd.concat([samples, new_rows], ignore_index=True)\n",
    "samples['citations'] = 'This study'\n",
    "samples['method_codes'] = 'FS-H'\n",
    "samples"
   ]
  },
  {
   "cell_type": "code",
   "execution_count": 6,
   "id": "df5bbad5",
   "metadata": {},
   "outputs": [],
   "source": [
    "locations['location_type'] = 'Laboratory'\n",
    "locations['geologic_classes'] = 'Not Specified'\n",
    "locations['lithologies'] = 'Not Specified'\n",
    "locations['lat_s'] = 44.9753\n",
    "locations['lat_n'] = 44.9753\n",
    "locations['lon_w'] = -93.2345\n",
    "locations['lon_e'] = -93.2345\n",
    "locations['age'] = 2000\n",
    "locations['age_unit'] = 'Years AD (+/-)'\n",
    "sites['lat'] = 44.9753\n",
    "sites['lon'] = -93.2345\n",
    "sites['age'] = 2000\n",
    "sites['age_unit'] = 'Years AD (+/-)'\n",
    "sites['geologic_classes'] = 'Not Specified'\n",
    "sites['geologic_types'] = 'Not Specified'\n",
    "sites['lithologies'] = 'Not Specified'\n",
    "sites['method_codes'] = method_codes\n",
    "specimens['mineral_class'] = 'Siderite'\n",
    "specimens['mineral_type'] = None"
   ]
  },
  {
   "cell_type": "code",
   "execution_count": 7,
   "id": "7b7babd9",
   "metadata": {},
   "outputs": [
    {
     "data": {
      "application/vnd.microsoft.datawrangler.viewer.v0+json": {
       "columns": [
        {
         "name": "measurement name",
         "rawType": "object",
         "type": "string"
        },
        {
         "name": "method_codes",
         "rawType": "object",
         "type": "string"
        }
       ],
       "ref": "d2ef5c61-4bd8-4285-b9db-76af4cfab971",
       "rows": [
        [
         "IRM-OldBlue-LP-X:LP-X-T:LP-X-F-10390-10390-1",
         "LP-X:LP-X-T:LP-X-F"
        ],
        [
         "IRM-OldBlue-LP-X:LP-X-T:LP-X-F-10390-10390-2",
         "LP-X:LP-X-T:LP-X-F"
        ],
        [
         "IRM-OldBlue-LP-X:LP-X-T:LP-X-F-10390-10390-3",
         "LP-X:LP-X-T:LP-X-F"
        ],
        [
         "IRM-OldBlue-LP-X:LP-X-T:LP-X-F-10390-10390-4",
         "LP-X:LP-X-T:LP-X-F"
        ],
        [
         "IRM-OldBlue-LP-X:LP-X-T:LP-X-F-10390-10390-5",
         "LP-X:LP-X-T:LP-X-F"
        ],
        [
         "IRM-OldBlue-LP-X:LP-X-T:LP-X-F-10390-10390-6",
         "LP-X:LP-X-T:LP-X-F"
        ],
        [
         "IRM-OldBlue-LP-X:LP-X-T:LP-X-F-10390-10390-7",
         "LP-X:LP-X-T:LP-X-F"
        ],
        [
         "IRM-OldBlue-LP-X:LP-X-T:LP-X-F-10390-10390-8",
         "LP-X:LP-X-T:LP-X-F"
        ],
        [
         "IRM-OldBlue-LP-X:LP-X-T:LP-X-F-10390-10390-9",
         "LP-X:LP-X-T:LP-X-F"
        ],
        [
         "IRM-OldBlue-LP-X:LP-X-T:LP-X-F-10390-10390-10",
         "LP-X:LP-X-T:LP-X-F"
        ],
        [
         "IRM-OldBlue-LP-X:LP-X-T:LP-X-F-10390-10390-11",
         "LP-X:LP-X-T:LP-X-F"
        ],
        [
         "IRM-OldBlue-LP-X:LP-X-T:LP-X-F-10390-10390-12",
         "LP-X:LP-X-T:LP-X-F"
        ],
        [
         "IRM-OldBlue-LP-X:LP-X-T:LP-X-F-10390-10390-13",
         "LP-X:LP-X-T:LP-X-F"
        ],
        [
         "IRM-OldBlue-LP-X:LP-X-T:LP-X-F-10390-10390-14",
         "LP-X:LP-X-T:LP-X-F"
        ],
        [
         "IRM-OldBlue-LP-X:LP-X-T:LP-X-F-10390-10390-15",
         "LP-X:LP-X-T:LP-X-F"
        ],
        [
         "IRM-OldBlue-LP-X:LP-X-T:LP-X-F-10390-10390-16",
         "LP-X:LP-X-T:LP-X-F"
        ],
        [
         "IRM-OldBlue-LP-X:LP-X-T:LP-X-F-10390-10390-17",
         "LP-X:LP-X-T:LP-X-F"
        ],
        [
         "IRM-OldBlue-LP-X:LP-X-T:LP-X-F-10390-10390-18",
         "LP-X:LP-X-T:LP-X-F"
        ],
        [
         "IRM-OldBlue-LP-X:LP-X-T:LP-X-F-10390-10390-19",
         "LP-X:LP-X-T:LP-X-F"
        ],
        [
         "IRM-OldBlue-LP-X:LP-X-T:LP-X-F-10390-10390-20",
         "LP-X:LP-X-T:LP-X-F"
        ],
        [
         "IRM-OldBlue-LP-X:LP-X-T:LP-X-F-10390-10390-21",
         "LP-X:LP-X-T:LP-X-F"
        ],
        [
         "IRM-OldBlue-LP-X:LP-X-T:LP-X-F-10390-10390-22",
         "LP-X:LP-X-T:LP-X-F"
        ],
        [
         "IRM-OldBlue-LP-X:LP-X-T:LP-X-F-10390-10390-23",
         "LP-X:LP-X-T:LP-X-F"
        ],
        [
         "IRM-OldBlue-LP-X:LP-X-T:LP-X-F-10390-10390-24",
         "LP-X:LP-X-T:LP-X-F"
        ],
        [
         "IRM-OldBlue-LP-X:LP-X-T:LP-X-F-10390-10390-25",
         "LP-X:LP-X-T:LP-X-F"
        ],
        [
         "IRM-OldBlue-LP-X:LP-X-T:LP-X-F-10390-10390-26",
         "LP-X:LP-X-T:LP-X-F"
        ],
        [
         "IRM-OldBlue-LP-X:LP-X-T:LP-X-F-10390-10390-27",
         "LP-X:LP-X-T:LP-X-F"
        ],
        [
         "IRM-OldBlue-LP-X:LP-X-T:LP-X-F-10390-10390-28",
         "LP-X:LP-X-T:LP-X-F"
        ],
        [
         "IRM-OldBlue-LP-X:LP-X-T:LP-X-F-10390-10390-29",
         "LP-X:LP-X-T:LP-X-F"
        ],
        [
         "IRM-OldBlue-LP-X:LP-X-T:LP-X-F-10390-10390-30",
         "LP-X:LP-X-T:LP-X-F"
        ],
        [
         "IRM-OldBlue-LP-X:LP-X-T:LP-X-F-10390-10390-31",
         "LP-X:LP-X-T:LP-X-F"
        ],
        [
         "IRM-OldBlue-LP-X:LP-X-T:LP-X-F-10390-10390-32",
         "LP-X:LP-X-T:LP-X-F"
        ],
        [
         "IRM-OldBlue-LP-X:LP-X-T:LP-X-F-10390-10390-33",
         "LP-X:LP-X-T:LP-X-F"
        ],
        [
         "IRM-OldBlue-LP-X:LP-X-T:LP-X-F-10390-10390-34",
         "LP-X:LP-X-T:LP-X-F"
        ],
        [
         "IRM-OldBlue-LP-X:LP-X-T:LP-X-F-10390-10390-35",
         "LP-X:LP-X-T:LP-X-F"
        ],
        [
         "IRM-OldBlue-LP-X:LP-X-T:LP-X-F-10390-10390-36",
         "LP-X:LP-X-T:LP-X-F"
        ],
        [
         "IRM-OldBlue-LP-X:LP-X-T:LP-X-F-10390-10390-37",
         "LP-X:LP-X-T:LP-X-F"
        ],
        [
         "IRM-OldBlue-LP-X:LP-X-T:LP-X-F-10390-10390-38",
         "LP-X:LP-X-T:LP-X-F"
        ],
        [
         "IRM-OldBlue-LP-X:LP-X-T:LP-X-F-10390-10390-39",
         "LP-X:LP-X-T:LP-X-F"
        ],
        [
         "IRM-OldBlue-LP-X:LP-X-T:LP-X-F-10390-10390-40",
         "LP-X:LP-X-T:LP-X-F"
        ],
        [
         "IRM-OldBlue-LP-X:LP-X-T:LP-X-F-10390-10390-41",
         "LP-X:LP-X-T:LP-X-F"
        ],
        [
         "IRM-OldBlue-LP-X:LP-X-T:LP-X-F-10390-10390-42",
         "LP-X:LP-X-T:LP-X-F"
        ],
        [
         "IRM-OldBlue-LP-X:LP-X-T:LP-X-F-10390-10390-43",
         "LP-X:LP-X-T:LP-X-F"
        ],
        [
         "IRM-OldBlue-LP-X:LP-X-T:LP-X-F-10390-10390-44",
         "LP-X:LP-X-T:LP-X-F"
        ],
        [
         "IRM-OldBlue-LP-X:LP-X-T:LP-X-F-10390-10390-45",
         "LP-X:LP-X-T:LP-X-F"
        ],
        [
         "IRM-OldBlue-LP-X:LP-X-T:LP-X-F-10390-10390-46",
         "LP-X:LP-X-T:LP-X-F"
        ],
        [
         "IRM-OldBlue-LP-X:LP-X-T:LP-X-F-10390-10390-47",
         "LP-X:LP-X-T:LP-X-F"
        ],
        [
         "IRM-OldBlue-LP-X:LP-X-T:LP-X-F-10390-10390-48",
         "LP-X:LP-X-T:LP-X-F"
        ],
        [
         "IRM-OldBlue-LP-X:LP-X-T:LP-X-F-10390-10390-49",
         "LP-X:LP-X-T:LP-X-F"
        ],
        [
         "IRM-OldBlue-LP-X:LP-X-T:LP-X-F-10390-10390-50",
         "LP-X:LP-X-T:LP-X-F"
        ]
       ],
       "shape": {
        "columns": 1,
        "rows": 430
       }
      },
      "text/plain": [
       "measurement name\n",
       "IRM-OldBlue-LP-X:LP-X-T:LP-X-F-10390-10390-1                   LP-X:LP-X-T:LP-X-F\n",
       "IRM-OldBlue-LP-X:LP-X-T:LP-X-F-10390-10390-2                   LP-X:LP-X-T:LP-X-F\n",
       "IRM-OldBlue-LP-X:LP-X-T:LP-X-F-10390-10390-3                   LP-X:LP-X-T:LP-X-F\n",
       "IRM-OldBlue-LP-X:LP-X-T:LP-X-F-10390-10390-4                   LP-X:LP-X-T:LP-X-F\n",
       "IRM-OldBlue-LP-X:LP-X-T:LP-X-F-10390-10390-5                   LP-X:LP-X-T:LP-X-F\n",
       "IRM-OldBlue-LP-X:LP-X-T:LP-X-F-10390-10390-6                   LP-X:LP-X-T:LP-X-F\n",
       "IRM-OldBlue-LP-X:LP-X-T:LP-X-F-10390-10390-7                   LP-X:LP-X-T:LP-X-F\n",
       "IRM-OldBlue-LP-X:LP-X-T:LP-X-F-10390-10390-8                   LP-X:LP-X-T:LP-X-F\n",
       "IRM-OldBlue-LP-X:LP-X-T:LP-X-F-10390-10390-9                   LP-X:LP-X-T:LP-X-F\n",
       "IRM-OldBlue-LP-X:LP-X-T:LP-X-F-10390-10390-10                  LP-X:LP-X-T:LP-X-F\n",
       "IRM-OldBlue-LP-X:LP-X-T:LP-X-F-10390-10390-11                  LP-X:LP-X-T:LP-X-F\n",
       "IRM-OldBlue-LP-X:LP-X-T:LP-X-F-10390-10390-12                  LP-X:LP-X-T:LP-X-F\n",
       "IRM-OldBlue-LP-X:LP-X-T:LP-X-F-10390-10390-13                  LP-X:LP-X-T:LP-X-F\n",
       "IRM-OldBlue-LP-X:LP-X-T:LP-X-F-10390-10390-14                  LP-X:LP-X-T:LP-X-F\n",
       "IRM-OldBlue-LP-X:LP-X-T:LP-X-F-10390-10390-15                  LP-X:LP-X-T:LP-X-F\n",
       "IRM-OldBlue-LP-X:LP-X-T:LP-X-F-10390-10390-16                  LP-X:LP-X-T:LP-X-F\n",
       "IRM-OldBlue-LP-X:LP-X-T:LP-X-F-10390-10390-17                  LP-X:LP-X-T:LP-X-F\n",
       "IRM-OldBlue-LP-X:LP-X-T:LP-X-F-10390-10390-18                  LP-X:LP-X-T:LP-X-F\n",
       "IRM-OldBlue-LP-X:LP-X-T:LP-X-F-10390-10390-19                  LP-X:LP-X-T:LP-X-F\n",
       "IRM-OldBlue-LP-X:LP-X-T:LP-X-F-10390-10390-20                  LP-X:LP-X-T:LP-X-F\n",
       "IRM-OldBlue-LP-X:LP-X-T:LP-X-F-10390-10390-21                  LP-X:LP-X-T:LP-X-F\n",
       "IRM-OldBlue-LP-X:LP-X-T:LP-X-F-10390-10390-22                  LP-X:LP-X-T:LP-X-F\n",
       "IRM-OldBlue-LP-X:LP-X-T:LP-X-F-10390-10390-23                  LP-X:LP-X-T:LP-X-F\n",
       "IRM-OldBlue-LP-X:LP-X-T:LP-X-F-10390-10390-24                  LP-X:LP-X-T:LP-X-F\n",
       "IRM-OldBlue-LP-X:LP-X-T:LP-X-F-10390-10390-25                  LP-X:LP-X-T:LP-X-F\n",
       "IRM-OldBlue-LP-X:LP-X-T:LP-X-F-10390-10390-26                  LP-X:LP-X-T:LP-X-F\n",
       "IRM-OldBlue-LP-X:LP-X-T:LP-X-F-10390-10390-27                  LP-X:LP-X-T:LP-X-F\n",
       "IRM-OldBlue-LP-X:LP-X-T:LP-X-F-10390-10390-28                  LP-X:LP-X-T:LP-X-F\n",
       "IRM-OldBlue-LP-X:LP-X-T:LP-X-F-10390-10390-29                  LP-X:LP-X-T:LP-X-F\n",
       "IRM-OldBlue-LP-X:LP-X-T:LP-X-F-10390-10390-30                  LP-X:LP-X-T:LP-X-F\n",
       "IRM-OldBlue-LP-X:LP-X-T:LP-X-F-10390-10390-31                  LP-X:LP-X-T:LP-X-F\n",
       "IRM-OldBlue-LP-X:LP-X-T:LP-X-F-10390-10390-32                  LP-X:LP-X-T:LP-X-F\n",
       "IRM-OldBlue-LP-X:LP-X-T:LP-X-F-10390-10390-33                  LP-X:LP-X-T:LP-X-F\n",
       "IRM-OldBlue-LP-X:LP-X-T:LP-X-F-10390-10390-34                  LP-X:LP-X-T:LP-X-F\n",
       "IRM-OldBlue-LP-X:LP-X-T:LP-X-F-10390-10390-35                  LP-X:LP-X-T:LP-X-F\n",
       "IRM-OldBlue-LP-X:LP-X-T:LP-X-F-10390-10390-36                  LP-X:LP-X-T:LP-X-F\n",
       "IRM-OldBlue-LP-X:LP-X-T:LP-X-F-10390-10390-37                  LP-X:LP-X-T:LP-X-F\n",
       "IRM-OldBlue-LP-X:LP-X-T:LP-X-F-10390-10390-38                  LP-X:LP-X-T:LP-X-F\n",
       "IRM-OldBlue-LP-X:LP-X-T:LP-X-F-10390-10390-39                  LP-X:LP-X-T:LP-X-F\n",
       "IRM-OldBlue-LP-X:LP-X-T:LP-X-F-10390-10390-40                  LP-X:LP-X-T:LP-X-F\n",
       "IRM-OldBlue-LP-X:LP-X-T:LP-X-F-10390-10390-41                  LP-X:LP-X-T:LP-X-F\n",
       "IRM-OldBlue-LP-X:LP-X-T:LP-X-F-10390-10390-42                  LP-X:LP-X-T:LP-X-F\n",
       "IRM-OldBlue-LP-X:LP-X-T:LP-X-F-10390-10390-43                  LP-X:LP-X-T:LP-X-F\n",
       "IRM-OldBlue-LP-X:LP-X-T:LP-X-F-10390-10390-44                  LP-X:LP-X-T:LP-X-F\n",
       "IRM-OldBlue-LP-X:LP-X-T:LP-X-F-10390-10390-45                  LP-X:LP-X-T:LP-X-F\n",
       "IRM-OldBlue-LP-X:LP-X-T:LP-X-F-10390-10390-46                  LP-X:LP-X-T:LP-X-F\n",
       "IRM-OldBlue-LP-X:LP-X-T:LP-X-F-10390-10390-47                  LP-X:LP-X-T:LP-X-F\n",
       "IRM-OldBlue-LP-X:LP-X-T:LP-X-F-10390-10390-48                  LP-X:LP-X-T:LP-X-F\n",
       "IRM-OldBlue-LP-X:LP-X-T:LP-X-F-10390-10390-49                  LP-X:LP-X-T:LP-X-F\n",
       "IRM-OldBlue-LP-X:LP-X-T:LP-X-F-10390-10390-50                  LP-X:LP-X-T:LP-X-F\n",
       "IRM-OldBlue-LP-X:LP-X-T:LP-X-F-10390-10390-51                  LP-X:LP-X-T:LP-X-F\n",
       "IRM-OldBlue-LP-X:LP-X-T:LP-X-F-10390-10390-52                  LP-X:LP-X-T:LP-X-F\n",
       "IRM-OldBlue-LP-X:LP-X-T:LP-X-F-10390-10390-53                  LP-X:LP-X-T:LP-X-F\n",
       "IRM-OldBlue-LP-X:LP-X-T:LP-X-F-10390-10390-54                  LP-X:LP-X-T:LP-X-F\n",
       "IRM-OldBlue-LP-X:LP-X-T:LP-X-F-10390-10390-55                  LP-X:LP-X-T:LP-X-F\n",
       "IRM-OldBlue-LP-X:LP-X-T:LP-X-F-10390-10390-56                  LP-X:LP-X-T:LP-X-F\n",
       "IRM-OldBlue-LP-X:LP-X-T:LP-X-F-10390-10390-57                  LP-X:LP-X-T:LP-X-F\n",
       "IRM-OldBlue-LP-X:LP-X-T:LP-X-F-10390-10390-58                  LP-X:LP-X-T:LP-X-F\n",
       "IRM-OldBlue-LP-X:LP-X-T:LP-X-F-10390-10390-59                  LP-X:LP-X-T:LP-X-F\n",
       "IRM-OldBlue-LP-X:LP-X-T:LP-X-F-10390-10390-60                  LP-X:LP-X-T:LP-X-F\n",
       "IRM-OldBlue-LP-X:LP-X-T:LP-X-F-10390-10390-61                  LP-X:LP-X-T:LP-X-F\n",
       "IRM-OldBlue-LP-X:LP-X-T:LP-X-F-10390-10390-62                  LP-X:LP-X-T:LP-X-F\n",
       "IRM-OldBlue-LP-X:LP-X-T:LP-X-F-10390-10390-63                  LP-X:LP-X-T:LP-X-F\n",
       "IRM-OldBlue-LP-X:LP-X-T:LP-X-F-10390-10390-64                  LP-X:LP-X-T:LP-X-F\n",
       "IRM-OldBlue-LP-X:LP-X-T:LP-X-F-10390-10390-65                  LP-X:LP-X-T:LP-X-F\n",
       "IRM-OldBlue-LP-X:LP-X-T:LP-X-F-10390-10390-66                  LP-X:LP-X-T:LP-X-F\n",
       "IRM-OldBlue-LP-X:LP-X-T:LP-X-F-10390-10390-67                  LP-X:LP-X-T:LP-X-F\n",
       "IRM-OldBlue-LP-X:LP-X-T:LP-X-F-10390-10390-68                  LP-X:LP-X-T:LP-X-F\n",
       "IRM-OldBlue-LP-X:LP-X-T:LP-X-F-10390-10390-69                  LP-X:LP-X-T:LP-X-F\n",
       "IRM-OldBlue-LP-X:LP-X-T:LP-X-F-10390-10390-70                  LP-X:LP-X-T:LP-X-F\n",
       "IRM-OldBlue-LP-X:LP-X-T:LP-X-F-10390-10390-71                  LP-X:LP-X-T:LP-X-F\n",
       "IRM-OldBlue-LP-X:LP-X-T:LP-X-F-10390-10390-72                  LP-X:LP-X-T:LP-X-F\n",
       "IRM-OldBlue-LP-X:LP-X-T:LP-X-F-10390-10390-73                  LP-X:LP-X-T:LP-X-F\n",
       "IRM-OldBlue-LP-X:LP-X-T:LP-X-F-10390-10390-74                  LP-X:LP-X-T:LP-X-F\n",
       "IRM-OldBlue-LP-X:LP-X-T:LP-X-F-10390-10390-75                  LP-X:LP-X-T:LP-X-F\n",
       "IRM-OldBlue-LP-X:LP-X-T:LP-X-F-10390-10390-76                  LP-X:LP-X-T:LP-X-F\n",
       "IRM-OldBlue-LP-X:LP-X-T:LP-X-F-10390-10390-77                  LP-X:LP-X-T:LP-X-F\n",
       "IRM-OldBlue-LP-X:LP-X-T:LP-X-F-10390-10390-78                  LP-X:LP-X-T:LP-X-F\n",
       "IRM-OldBlue-LP-X:LP-X-T:LP-X-F-10390-10390-79                  LP-X:LP-X-T:LP-X-F\n",
       "IRM-OldBlue-LP-X:LP-X-T:LP-X-F-10390-10390-80                  LP-X:LP-X-T:LP-X-F\n",
       "IRM-OldBlue-LP-X:LP-X-T:LP-X-F-10390-10390-81                  LP-X:LP-X-T:LP-X-F\n",
       "IRM-OldBlue-LP-X:LP-X-T:LP-X-F-10390-10390-82                  LP-X:LP-X-T:LP-X-F\n",
       "IRM-OldBlue-LP-X:LP-X-T:LP-X-F-10390-10390-83                  LP-X:LP-X-T:LP-X-F\n",
       "IRM-OldBlue-LP-X:LP-X-T:LP-X-F-10390-10390-84                  LP-X:LP-X-T:LP-X-F\n",
       "IRM-OldBlue-LP-X:LP-X-T:LP-X-F-10390-10390-85                  LP-X:LP-X-T:LP-X-F\n",
       "IRM-OldBlue-LP-X:LP-X-T:LP-X-F-10390-10390-86                  LP-X:LP-X-T:LP-X-F\n",
       "IRM-OldBlue-LP-X:LP-X-T:LP-X-F-10390-10390-87                  LP-X:LP-X-T:LP-X-F\n",
       "IRM-OldBlue-LP-X:LP-X-T:LP-X-F-10390-10390-88                  LP-X:LP-X-T:LP-X-F\n",
       "IRM-OldBlue-LP-X:LP-X-T:LP-X-F-10390-10390-89                  LP-X:LP-X-T:LP-X-F\n",
       "IRM-OldBlue-LP-X:LP-X-T:LP-X-F-10390-10390-90                  LP-X:LP-X-T:LP-X-F\n",
       "IRM-OldBlue-LP-X:LP-X-T:LP-X-F-10390-10390-91                  LP-X:LP-X-T:LP-X-F\n",
       "IRM-OldBlue-LP-X:LP-X-T:LP-X-F-10390-10390-92                  LP-X:LP-X-T:LP-X-F\n",
       "IRM-OldBlue-LP-X:LP-X-T:LP-X-F-10390-10390-93                  LP-X:LP-X-T:LP-X-F\n",
       "IRM-OldBlue-LP-X:LP-X-T:LP-X-F-10390-10390-94                  LP-X:LP-X-T:LP-X-F\n",
       "IRM-OldBlue-LP-X:LP-X-T:LP-X-F-10390-10390-95                  LP-X:LP-X-T:LP-X-F\n",
       "IRM-OldBlue-LP-X:LP-X-T:LP-X-F-10390-10390-96                  LP-X:LP-X-T:LP-X-F\n",
       "IRM-OldBlue-LP-X:LP-X-T:LP-X-F-10390-10390-97                  LP-X:LP-X-T:LP-X-F\n",
       "IRM-OldBlue-LP-X:LP-X-T:LP-X-F-10390-10390-98                  LP-X:LP-X-T:LP-X-F\n",
       "IRM-OldBlue-LP-X:LP-X-T:LP-X-F-10390-10390-99                  LP-X:LP-X-T:LP-X-F\n",
       "IRM-OldBlue-LP-X:LP-X-T:LP-X-F-10390-10390-100                 LP-X:LP-X-T:LP-X-F\n",
       "IRM-OldBlue-LP-X:LP-X-T:LP-X-F-10390-10390-101                 LP-X:LP-X-T:LP-X-F\n",
       "IRM-OldBlue-LP-X:LP-X-T:LP-X-F-10390-10390-102                 LP-X:LP-X-T:LP-X-F\n",
       "IRM-OldBlue-LP-X:LP-X-T:LP-X-F-10390-10390-103                 LP-X:LP-X-T:LP-X-F\n",
       "IRM-OldBlue-LP-X:LP-X-T:LP-X-F-10390-10390-104                 LP-X:LP-X-T:LP-X-F\n",
       "IRM-OldBlue-LP-X:LP-X-T:LP-X-F-10390-10390-105                 LP-X:LP-X-T:LP-X-F\n",
       "IRM-OldBlue-LP-X:LP-X-T:LP-X-F-10390-10390-106                 LP-X:LP-X-T:LP-X-F\n",
       "IRM-OldBlue-LP-X:LP-X-T:LP-X-F-10390-10390-107                 LP-X:LP-X-T:LP-X-F\n",
       "IRM-OldBlue-LP-X:LP-X-T:LP-X-F-10390-10390-108                 LP-X:LP-X-T:LP-X-F\n",
       "IRM-OldBlue-LP-X:LP-X-T:LP-X-F-10390-10390-109                 LP-X:LP-X-T:LP-X-F\n",
       "IRM-OldBlue-LP-X:LP-X-T:LP-X-F-10390-10390-110                 LP-X:LP-X-T:LP-X-F\n",
       "IRM-OldBlue-LP-X:LP-X-T:LP-X-F-10390-10390-111                 LP-X:LP-X-T:LP-X-F\n",
       "IRM-OldBlue-LP-X:LP-X-T:LP-X-F-10390-10390-112                 LP-X:LP-X-T:LP-X-F\n",
       "IRM-OldBlue-LP-X:LP-X-T:LP-X-F-10390-10390-113                 LP-X:LP-X-T:LP-X-F\n",
       "IRM-OldBlue-LP-X:LP-X-T:LP-X-F-10390-10390-114                 LP-X:LP-X-T:LP-X-F\n",
       "IRM-OldBlue-LP-X:LP-X-T:LP-X-F-10390-10390-115                 LP-X:LP-X-T:LP-X-F\n",
       "IRM-OldBlue-LP-X:LP-X-T:LP-X-F-10390-10390-116                 LP-X:LP-X-T:LP-X-F\n",
       "IRM-OldBlue-LP-X:LP-X-T:LP-X-F-10390-10390-117                 LP-X:LP-X-T:LP-X-F\n",
       "IRM-OldBlue-LP-X:LP-X-T:LP-X-F-10390-10390-118                 LP-X:LP-X-T:LP-X-F\n",
       "IRM-OldBlue-LP-X:LP-X-T:LP-X-F-10390-10390-119                 LP-X:LP-X-T:LP-X-F\n",
       "IRM-OldBlue-LP-X:LP-X-T:LP-X-F-10390-10390-120                 LP-X:LP-X-T:LP-X-F\n",
       "IRM-OldBlue-LP-X:LP-X-T:LP-X-F-10390-10390-121                 LP-X:LP-X-T:LP-X-F\n",
       "IRM-OldBlue-LP-X:LP-X-T:LP-X-F-10390-10390-122                 LP-X:LP-X-T:LP-X-F\n",
       "IRM-OldBlue-LP-X:LP-X-T:LP-X-F-10390-10390-123                 LP-X:LP-X-T:LP-X-F\n",
       "IRM-OldBlue-LP-X:LP-X-T:LP-X-F-10390-10390-124                 LP-X:LP-X-T:LP-X-F\n",
       "IRM-OldBlue-LP-X:LP-X-T:LP-X-F-10390-10390-125                 LP-X:LP-X-T:LP-X-F\n",
       "IRM-OldBlue-LP-X:LP-X-T:LP-X-F-10390-10390-126                 LP-X:LP-X-T:LP-X-F\n",
       "IRM-OldBlue-LP-X:LP-X-T:LP-X-F-10390-10390-127                 LP-X:LP-X-T:LP-X-F\n",
       "IRM-OldBlue-LP-X:LP-X-T:LP-X-F-10390-10390-128                 LP-X:LP-X-T:LP-X-F\n",
       "IRM-OldBlue-LP-X:LP-X-T:LP-X-F-10390-10390-129                 LP-X:LP-X-T:LP-X-F\n",
       "IRM-OldBlue-LP-X:LP-X-T:LP-X-F-10390-10390-130                 LP-X:LP-X-T:LP-X-F\n",
       "IRM-OldBlue-LP-X:LP-X-T:LP-X-F-10390-10390-131                 LP-X:LP-X-T:LP-X-F\n",
       "IRM-OldBlue-LP-X:LP-X-T:LP-X-F-10390-10390-132                 LP-X:LP-X-T:LP-X-F\n",
       "IRM-OldBlue-LP-X:LP-X-T:LP-X-F-10390-10390-133                 LP-X:LP-X-T:LP-X-F\n",
       "IRM-OldBlue-LP-X:LP-X-T:LP-X-F-10390-10390-134                 LP-X:LP-X-T:LP-X-F\n",
       "IRM-OldBlue-LP-X:LP-X-T:LP-X-F-10390-10390-135                 LP-X:LP-X-T:LP-X-F\n",
       "IRM-OldBlue-LP-X:LP-X-T:LP-X-F-10390-10390-136                 LP-X:LP-X-T:LP-X-F\n",
       "IRM-OldBlue-LP-X:LP-X-T:LP-X-F-10390-10390-137                 LP-X:LP-X-T:LP-X-F\n",
       "IRM-OldBlue-LP-X:LP-X-T:LP-X-F-10390-10390-138                 LP-X:LP-X-T:LP-X-F\n",
       "IRM-OldBlue-LP-X:LP-X-T:LP-X-F-10390-10390-139                 LP-X:LP-X-T:LP-X-F\n",
       "IRM-OldBlue-LP-X:LP-X-T:LP-X-F-10390-10390-140                 LP-X:LP-X-T:LP-X-F\n",
       "IRM-OldBlue-LP-X:LP-X-T:LP-X-F-10390-10390-141                 LP-X:LP-X-T:LP-X-F\n",
       "IRM-OldBlue-LP-X:LP-X-T:LP-X-F-10390-10390-142                 LP-X:LP-X-T:LP-X-F\n",
       "IRM-OldBlue-LP-X:LP-X-T:LP-X-F-10390-10390-143                 LP-X:LP-X-T:LP-X-F\n",
       "IRM-OldBlue-LP-X:LP-X-T:LP-X-F-10390-10390-144                 LP-X:LP-X-T:LP-X-F\n",
       "IRM-OldBlue-LP-X:LP-X-T:LP-X-F-10390-10390-145                 LP-X:LP-X-T:LP-X-F\n",
       "magnetite_BangsLabs_11-nm 01-LP-MST-DC-10390-0-0                           LP-MST\n",
       "magnetite_BangsLabs_11-nm 01-LP-MST-DC-10390-0-1                           LP-MST\n",
       "magnetite_BangsLabs_11-nm 01-LP-MST-DC-10390-0-2                           LP-MST\n",
       "magnetite_BangsLabs_11-nm 01-LP-MST-DC-10390-0-3                           LP-MST\n",
       "magnetite_BangsLabs_11-nm 01-LP-MST-DC-10390-0-4                           LP-MST\n",
       "magnetite_BangsLabs_11-nm 01-LP-MST-DC-10390-0-5                           LP-MST\n",
       "magnetite_BangsLabs_11-nm 01-LP-MST-DC-10390-0-6                           LP-MST\n",
       "magnetite_BangsLabs_11-nm 01-LP-MST-DC-10390-0-7                           LP-MST\n",
       "magnetite_BangsLabs_11-nm 01-LP-MST-DC-10390-0-8                           LP-MST\n",
       "magnetite_BangsLabs_11-nm 01-LP-MST-DC-10390-0-9                           LP-MST\n",
       "magnetite_BangsLabs_11-nm 01-LP-MST-DC-10390-0-10                          LP-MST\n",
       "magnetite_BangsLabs_11-nm 01-LP-MST-DC-10390-0-11                          LP-MST\n",
       "magnetite_BangsLabs_11-nm 01-LP-MST-DC-10390-0-12                          LP-MST\n",
       "magnetite_BangsLabs_11-nm 01-LP-MST-DC-10390-0-13                          LP-MST\n",
       "magnetite_BangsLabs_11-nm 01-LP-MST-DC-10390-0-14                          LP-MST\n",
       "magnetite_BangsLabs_11-nm 01-LP-MST-DC-10390-0-15                          LP-MST\n",
       "magnetite_BangsLabs_11-nm 01-LP-MST-DC-10390-0-16                          LP-MST\n",
       "magnetite_BangsLabs_11-nm 01-LP-MST-DC-10390-0-17                          LP-MST\n",
       "magnetite_BangsLabs_11-nm 01-LP-MST-DC-10390-0-18                          LP-MST\n",
       "magnetite_BangsLabs_11-nm 01-LP-MST-DC-10390-0-19                          LP-MST\n",
       "magnetite_BangsLabs_11-nm 01-LP-MST-DC-10390-0-20                          LP-MST\n",
       "magnetite_BangsLabs_11-nm 01-LP-MST-DC-10390-0-21                          LP-MST\n",
       "magnetite_BangsLabs_11-nm 01-LP-MST-DC-10390-0-22                          LP-MST\n",
       "magnetite_BangsLabs_11-nm 01-LP-MST-DC-10390-0-23                          LP-MST\n",
       "magnetite_BangsLabs_11-nm 01-LP-MST-DC-10390-0-24                          LP-MST\n",
       "magnetite_BangsLabs_11-nm 01-LP-MST-DC-10390-0-25                          LP-MST\n",
       "magnetite_BangsLabs_11-nm 01-LP-MST-DC-10390-0-26                          LP-MST\n",
       "magnetite_BangsLabs_11-nm 01-LP-MST-DC-10390-0-27                          LP-MST\n",
       "magnetite_BangsLabs_11-nm 01-LP-MST-DC-10390-0-28                          LP-MST\n",
       "magnetite_BangsLabs_11-nm 01-LP-MST-DC-10390-0-29                          LP-MST\n",
       "magnetite_BangsLabs_11-nm 01-LP-MST-DC-10390-0-30                          LP-MST\n",
       "magnetite_BangsLabs_11-nm 01-LP-MST-DC-10390-0-31                          LP-MST\n",
       "magnetite_BangsLabs_11-nm 01-LP-MST-DC-10390-0-32                          LP-MST\n",
       "magnetite_BangsLabs_11-nm 01-LP-MST-DC-10390-0-33                          LP-MST\n",
       "magnetite_BangsLabs_11-nm 01-LP-MST-DC-10390-0-34                          LP-MST\n",
       "magnetite_BangsLabs_11-nm 01-LP-MST-DC-10390-0-35                          LP-MST\n",
       "magnetite_BangsLabs_11-nm 01-LP-MST-DC-10390-0-36                          LP-MST\n",
       "magnetite_BangsLabs_11-nm 01-LP-MST-DC-10390-0-37                          LP-MST\n",
       "magnetite_BangsLabs_11-nm 01-LP-MST-DC-10390-0-38                          LP-MST\n",
       "magnetite_BangsLabs_11-nm 01-LP-MST-DC-10390-0-39                          LP-MST\n",
       "magnetite_BangsLabs_11-nm 01-LP-MST-DC-10390-0-40                          LP-MST\n",
       "magnetite_BangsLabs_11-nm 01-LP-MST-DC-10390-0-41                          LP-MST\n",
       "magnetite_BangsLabs_11-nm 01-LP-MST-DC-10390-0-42                          LP-MST\n",
       "magnetite_BangsLabs_11-nm 01-LP-MST-DC-10390-0-43                          LP-MST\n",
       "magnetite_BangsLabs_11-nm 01-LP-MST-DC-10390-0-44                          LP-MST\n",
       "magnetite_BangsLabs_11-nm 01-LP-MST-DC-10390-0-45                          LP-MST\n",
       "magnetite_BangsLabs_11-nm 01-LP-MST-DC-10390-0-46                          LP-MST\n",
       "magnetite_BangsLabs_11-nm 01-LP-MST-DC-10390-0-47                          LP-MST\n",
       "magnetite_BangsLabs_11-nm 01-LP-MST-DC-10390-0-48                          LP-MST\n",
       "magnetite_BangsLabs_11-nm 01-LP-MST-DC-10390-0-49                          LP-MST\n",
       "magnetite_BangsLabs_11-nm 01-LP-MST-DC-10390-0-50                          LP-MST\n",
       "magnetite_BangsLabs_11-nm 01-LP-MST-DC-10390-0-51                          LP-MST\n",
       "magnetite_BangsLabs_11-nm 01-LP-MST-DC-10390-0-52                          LP-MST\n",
       "magnetite_BangsLabs_11-nm 01-LP-MST-DC-10390-0-53                          LP-MST\n",
       "magnetite_BangsLabs_11-nm 01-LP-MST-DC-10390-0-54                          LP-MST\n",
       "magnetite_BangsLabs_11-nm 01-LP-MST-DC-10390-0-55                          LP-MST\n",
       "magnetite_BangsLabs_11-nm 01-LP-MST-DC-10390-0-56                          LP-MST\n",
       "magnetite_BangsLabs_11-nm 01-LP-FC-DC-10390-1-0                             LP-FC\n",
       "magnetite_BangsLabs_11-nm 01-LP-FC-DC-10390-1-1                             LP-FC\n",
       "magnetite_BangsLabs_11-nm 01-LP-FC-DC-10390-1-2                             LP-FC\n",
       "magnetite_BangsLabs_11-nm 01-LP-FC-DC-10390-1-3                             LP-FC\n",
       "magnetite_BangsLabs_11-nm 01-LP-FC-DC-10390-1-4                             LP-FC\n",
       "magnetite_BangsLabs_11-nm 01-LP-FC-DC-10390-1-5                             LP-FC\n",
       "magnetite_BangsLabs_11-nm 01-LP-FC-DC-10390-1-6                             LP-FC\n",
       "magnetite_BangsLabs_11-nm 01-LP-FC-DC-10390-1-7                             LP-FC\n",
       "magnetite_BangsLabs_11-nm 01-LP-FC-DC-10390-1-8                             LP-FC\n",
       "magnetite_BangsLabs_11-nm 01-LP-FC-DC-10390-1-9                             LP-FC\n",
       "magnetite_BangsLabs_11-nm 01-LP-FC-DC-10390-1-10                            LP-FC\n",
       "magnetite_BangsLabs_11-nm 01-LP-FC-DC-10390-1-11                            LP-FC\n",
       "magnetite_BangsLabs_11-nm 01-LP-FC-DC-10390-1-12                            LP-FC\n",
       "magnetite_BangsLabs_11-nm 01-LP-FC-DC-10390-1-13                            LP-FC\n",
       "magnetite_BangsLabs_11-nm 01-LP-FC-DC-10390-1-14                            LP-FC\n",
       "magnetite_BangsLabs_11-nm 01-LP-FC-DC-10390-1-15                            LP-FC\n",
       "magnetite_BangsLabs_11-nm 01-LP-FC-DC-10390-1-16                            LP-FC\n",
       "magnetite_BangsLabs_11-nm 01-LP-FC-DC-10390-1-17                            LP-FC\n",
       "magnetite_BangsLabs_11-nm 01-LP-FC-DC-10390-1-18                            LP-FC\n",
       "magnetite_BangsLabs_11-nm 01-LP-FC-DC-10390-1-19                            LP-FC\n",
       "magnetite_BangsLabs_11-nm 01-LP-FC-DC-10390-1-20                            LP-FC\n",
       "magnetite_BangsLabs_11-nm 01-LP-FC-DC-10390-1-21                            LP-FC\n",
       "magnetite_BangsLabs_11-nm 01-LP-FC-DC-10390-1-22                            LP-FC\n",
       "magnetite_BangsLabs_11-nm 01-LP-FC-DC-10390-1-23                            LP-FC\n",
       "magnetite_BangsLabs_11-nm 01-LP-FC-DC-10390-1-24                            LP-FC\n",
       "magnetite_BangsLabs_11-nm 01-LP-FC-DC-10390-1-25                            LP-FC\n",
       "magnetite_BangsLabs_11-nm 01-LP-FC-DC-10390-1-26                            LP-FC\n",
       "magnetite_BangsLabs_11-nm 01-LP-FC-DC-10390-1-27                            LP-FC\n",
       "magnetite_BangsLabs_11-nm 01-LP-FC-DC-10390-1-28                            LP-FC\n",
       "magnetite_BangsLabs_11-nm 01-LP-FC-DC-10390-1-29                            LP-FC\n",
       "magnetite_BangsLabs_11-nm 01-LP-FC-DC-10390-1-30                            LP-FC\n",
       "magnetite_BangsLabs_11-nm 01-LP-FC-DC-10390-1-31                            LP-FC\n",
       "magnetite_BangsLabs_11-nm 01-LP-FC-DC-10390-1-32                            LP-FC\n",
       "magnetite_BangsLabs_11-nm 01-LP-FC-DC-10390-1-33                            LP-FC\n",
       "magnetite_BangsLabs_11-nm 01-LP-FC-DC-10390-1-34                            LP-FC\n",
       "magnetite_BangsLabs_11-nm 01-LP-FC-DC-10390-1-35                            LP-FC\n",
       "magnetite_BangsLabs_11-nm 01-LP-FC-DC-10390-1-36                            LP-FC\n",
       "magnetite_BangsLabs_11-nm 01-LP-FC-DC-10390-1-37                            LP-FC\n",
       "magnetite_BangsLabs_11-nm 01-LP-FC-DC-10390-1-38                            LP-FC\n",
       "magnetite_BangsLabs_11-nm 01-LP-FC-DC-10390-1-39                            LP-FC\n",
       "magnetite_BangsLabs_11-nm 01-LP-FC-DC-10390-1-40                            LP-FC\n",
       "magnetite_BangsLabs_11-nm 01-LP-FC-DC-10390-1-41                            LP-FC\n",
       "magnetite_BangsLabs_11-nm 01-LP-FC-DC-10390-1-42                            LP-FC\n",
       "magnetite_BangsLabs_11-nm 01-LP-FC-DC-10390-1-43                            LP-FC\n",
       "magnetite_BangsLabs_11-nm 01-LP-FC-DC-10390-1-44                            LP-FC\n",
       "magnetite_BangsLabs_11-nm 01-LP-FC-DC-10390-1-45                            LP-FC\n",
       "magnetite_BangsLabs_11-nm 01-LP-FC-DC-10390-1-46                            LP-FC\n",
       "magnetite_BangsLabs_11-nm 01-LP-FC-DC-10390-1-47                            LP-FC\n",
       "magnetite_BangsLabs_11-nm 01-LP-FC-DC-10390-1-48                            LP-FC\n",
       "magnetite_BangsLabs_11-nm 01-LP-FC-DC-10390-1-49                            LP-FC\n",
       "magnetite_BangsLabs_11-nm 01-LP-FC-DC-10390-1-50                            LP-FC\n",
       "magnetite_BangsLabs_11-nm 01-LP-FC-DC-10390-1-51                            LP-FC\n",
       "magnetite_BangsLabs_11-nm 01-LP-FC-DC-10390-1-52                            LP-FC\n",
       "magnetite_BangsLabs_11-nm 01-LP-FC-DC-10390-1-53                            LP-FC\n",
       "magnetite_BangsLabs_11-nm 01-LP-FC-DC-10390-1-54                            LP-FC\n",
       "magnetite_BangsLabs_11-nm 01-LP-FC-DC-10390-1-55                            LP-FC\n",
       "magnetite_BangsLabs_11-nm 01-LP-FC-DC-10390-1-56                            LP-FC\n",
       "magnetite_BangsLabs_11-nm 01-LP-ZFC-DC-10390-2-0                           LP-ZFC\n",
       "magnetite_BangsLabs_11-nm 01-LP-ZFC-DC-10390-2-1                           LP-ZFC\n",
       "magnetite_BangsLabs_11-nm 01-LP-ZFC-DC-10390-2-2                           LP-ZFC\n",
       "magnetite_BangsLabs_11-nm 01-LP-ZFC-DC-10390-2-3                           LP-ZFC\n",
       "magnetite_BangsLabs_11-nm 01-LP-ZFC-DC-10390-2-4                           LP-ZFC\n",
       "magnetite_BangsLabs_11-nm 01-LP-ZFC-DC-10390-2-5                           LP-ZFC\n",
       "magnetite_BangsLabs_11-nm 01-LP-ZFC-DC-10390-2-6                           LP-ZFC\n",
       "magnetite_BangsLabs_11-nm 01-LP-ZFC-DC-10390-2-7                           LP-ZFC\n",
       "magnetite_BangsLabs_11-nm 01-LP-ZFC-DC-10390-2-8                           LP-ZFC\n",
       "magnetite_BangsLabs_11-nm 01-LP-ZFC-DC-10390-2-9                           LP-ZFC\n",
       "magnetite_BangsLabs_11-nm 01-LP-ZFC-DC-10390-2-10                          LP-ZFC\n",
       "magnetite_BangsLabs_11-nm 01-LP-ZFC-DC-10390-2-11                          LP-ZFC\n",
       "magnetite_BangsLabs_11-nm 01-LP-ZFC-DC-10390-2-12                          LP-ZFC\n",
       "magnetite_BangsLabs_11-nm 01-LP-ZFC-DC-10390-2-13                          LP-ZFC\n",
       "magnetite_BangsLabs_11-nm 01-LP-ZFC-DC-10390-2-14                          LP-ZFC\n",
       "magnetite_BangsLabs_11-nm 01-LP-ZFC-DC-10390-2-15                          LP-ZFC\n",
       "magnetite_BangsLabs_11-nm 01-LP-ZFC-DC-10390-2-16                          LP-ZFC\n",
       "magnetite_BangsLabs_11-nm 01-LP-ZFC-DC-10390-2-17                          LP-ZFC\n",
       "magnetite_BangsLabs_11-nm 01-LP-ZFC-DC-10390-2-18                          LP-ZFC\n",
       "magnetite_BangsLabs_11-nm 01-LP-ZFC-DC-10390-2-19                          LP-ZFC\n",
       "magnetite_BangsLabs_11-nm 01-LP-ZFC-DC-10390-2-20                          LP-ZFC\n",
       "magnetite_BangsLabs_11-nm 01-LP-ZFC-DC-10390-2-21                          LP-ZFC\n",
       "magnetite_BangsLabs_11-nm 01-LP-ZFC-DC-10390-2-22                          LP-ZFC\n",
       "magnetite_BangsLabs_11-nm 01-LP-ZFC-DC-10390-2-23                          LP-ZFC\n",
       "magnetite_BangsLabs_11-nm 01-LP-ZFC-DC-10390-2-24                          LP-ZFC\n",
       "magnetite_BangsLabs_11-nm 01-LP-ZFC-DC-10390-2-25                          LP-ZFC\n",
       "magnetite_BangsLabs_11-nm 01-LP-ZFC-DC-10390-2-26                          LP-ZFC\n",
       "magnetite_BangsLabs_11-nm 01-LP-ZFC-DC-10390-2-27                          LP-ZFC\n",
       "magnetite_BangsLabs_11-nm 01-LP-ZFC-DC-10390-2-28                          LP-ZFC\n",
       "magnetite_BangsLabs_11-nm 01-LP-ZFC-DC-10390-2-29                          LP-ZFC\n",
       "magnetite_BangsLabs_11-nm 01-LP-ZFC-DC-10390-2-30                          LP-ZFC\n",
       "magnetite_BangsLabs_11-nm 01-LP-ZFC-DC-10390-2-31                          LP-ZFC\n",
       "magnetite_BangsLabs_11-nm 01-LP-ZFC-DC-10390-2-32                          LP-ZFC\n",
       "magnetite_BangsLabs_11-nm 01-LP-ZFC-DC-10390-2-33                          LP-ZFC\n",
       "magnetite_BangsLabs_11-nm 01-LP-ZFC-DC-10390-2-34                          LP-ZFC\n",
       "magnetite_BangsLabs_11-nm 01-LP-ZFC-DC-10390-2-35                          LP-ZFC\n",
       "magnetite_BangsLabs_11-nm 01-LP-ZFC-DC-10390-2-36                          LP-ZFC\n",
       "magnetite_BangsLabs_11-nm 01-LP-ZFC-DC-10390-2-37                          LP-ZFC\n",
       "magnetite_BangsLabs_11-nm 01-LP-ZFC-DC-10390-2-38                          LP-ZFC\n",
       "magnetite_BangsLabs_11-nm 01-LP-ZFC-DC-10390-2-39                          LP-ZFC\n",
       "magnetite_BangsLabs_11-nm 01-LP-ZFC-DC-10390-2-40                          LP-ZFC\n",
       "magnetite_BangsLabs_11-nm 01-LP-ZFC-DC-10390-2-41                          LP-ZFC\n",
       "magnetite_BangsLabs_11-nm 01-LP-ZFC-DC-10390-2-42                          LP-ZFC\n",
       "magnetite_BangsLabs_11-nm 01-LP-ZFC-DC-10390-2-43                          LP-ZFC\n",
       "magnetite_BangsLabs_11-nm 01-LP-ZFC-DC-10390-2-44                          LP-ZFC\n",
       "magnetite_BangsLabs_11-nm 01-LP-ZFC-DC-10390-2-45                          LP-ZFC\n",
       "magnetite_BangsLabs_11-nm 01-LP-ZFC-DC-10390-2-46                          LP-ZFC\n",
       "magnetite_BangsLabs_11-nm 01-LP-ZFC-DC-10390-2-47                          LP-ZFC\n",
       "magnetite_BangsLabs_11-nm 01-LP-ZFC-DC-10390-2-48                          LP-ZFC\n",
       "magnetite_BangsLabs_11-nm 01-LP-ZFC-DC-10390-2-49                          LP-ZFC\n",
       "magnetite_BangsLabs_11-nm 01-LP-ZFC-DC-10390-2-50                          LP-ZFC\n",
       "magnetite_BangsLabs_11-nm 01-LP-ZFC-DC-10390-2-51                          LP-ZFC\n",
       "magnetite_BangsLabs_11-nm 01-LP-ZFC-DC-10390-2-52                          LP-ZFC\n",
       "magnetite_BangsLabs_11-nm 01-LP-ZFC-DC-10390-2-53                          LP-ZFC\n",
       "magnetite_BangsLabs_11-nm 01-LP-ZFC-DC-10390-2-54                          LP-ZFC\n",
       "magnetite_BangsLabs_11-nm 01-LP-ZFC-DC-10390-2-55                          LP-ZFC\n",
       "magnetite_BangsLabs_11-nm 01-LP-ZFC-DC-10390-2-56                          LP-ZFC\n",
       "magnetite_BangsLabs_11-nm 01-LP-CW-SIRM:LP-MC-DC-10390-3-0       LP-CW-SIRM:LP-MC\n",
       "magnetite_BangsLabs_11-nm 01-LP-CW-SIRM:LP-MC-DC-10390-3-1       LP-CW-SIRM:LP-MC\n",
       "magnetite_BangsLabs_11-nm 01-LP-CW-SIRM:LP-MC-DC-10390-3-2       LP-CW-SIRM:LP-MC\n",
       "magnetite_BangsLabs_11-nm 01-LP-CW-SIRM:LP-MC-DC-10390-3-3       LP-CW-SIRM:LP-MC\n",
       "magnetite_BangsLabs_11-nm 01-LP-CW-SIRM:LP-MC-DC-10390-3-4       LP-CW-SIRM:LP-MC\n",
       "magnetite_BangsLabs_11-nm 01-LP-CW-SIRM:LP-MC-DC-10390-3-5       LP-CW-SIRM:LP-MC\n",
       "magnetite_BangsLabs_11-nm 01-LP-CW-SIRM:LP-MC-DC-10390-3-6       LP-CW-SIRM:LP-MC\n",
       "magnetite_BangsLabs_11-nm 01-LP-CW-SIRM:LP-MC-DC-10390-3-7       LP-CW-SIRM:LP-MC\n",
       "magnetite_BangsLabs_11-nm 01-LP-CW-SIRM:LP-MC-DC-10390-3-8       LP-CW-SIRM:LP-MC\n",
       "magnetite_BangsLabs_11-nm 01-LP-CW-SIRM:LP-MC-DC-10390-3-9       LP-CW-SIRM:LP-MC\n",
       "magnetite_BangsLabs_11-nm 01-LP-CW-SIRM:LP-MC-DC-10390-3-10      LP-CW-SIRM:LP-MC\n",
       "magnetite_BangsLabs_11-nm 01-LP-CW-SIRM:LP-MC-DC-10390-3-11      LP-CW-SIRM:LP-MC\n",
       "magnetite_BangsLabs_11-nm 01-LP-CW-SIRM:LP-MC-DC-10390-3-12      LP-CW-SIRM:LP-MC\n",
       "magnetite_BangsLabs_11-nm 01-LP-CW-SIRM:LP-MC-DC-10390-3-13      LP-CW-SIRM:LP-MC\n",
       "magnetite_BangsLabs_11-nm 01-LP-CW-SIRM:LP-MC-DC-10390-3-14      LP-CW-SIRM:LP-MC\n",
       "magnetite_BangsLabs_11-nm 01-LP-CW-SIRM:LP-MC-DC-10390-3-15      LP-CW-SIRM:LP-MC\n",
       "magnetite_BangsLabs_11-nm 01-LP-CW-SIRM:LP-MC-DC-10390-3-16      LP-CW-SIRM:LP-MC\n",
       "magnetite_BangsLabs_11-nm 01-LP-CW-SIRM:LP-MC-DC-10390-3-17      LP-CW-SIRM:LP-MC\n",
       "magnetite_BangsLabs_11-nm 01-LP-CW-SIRM:LP-MC-DC-10390-3-18      LP-CW-SIRM:LP-MC\n",
       "magnetite_BangsLabs_11-nm 01-LP-CW-SIRM:LP-MC-DC-10390-3-19      LP-CW-SIRM:LP-MC\n",
       "magnetite_BangsLabs_11-nm 01-LP-CW-SIRM:LP-MC-DC-10390-3-20      LP-CW-SIRM:LP-MC\n",
       "magnetite_BangsLabs_11-nm 01-LP-CW-SIRM:LP-MC-DC-10390-3-21      LP-CW-SIRM:LP-MC\n",
       "magnetite_BangsLabs_11-nm 01-LP-CW-SIRM:LP-MC-DC-10390-3-22      LP-CW-SIRM:LP-MC\n",
       "magnetite_BangsLabs_11-nm 01-LP-CW-SIRM:LP-MC-DC-10390-3-23      LP-CW-SIRM:LP-MC\n",
       "magnetite_BangsLabs_11-nm 01-LP-CW-SIRM:LP-MC-DC-10390-3-24      LP-CW-SIRM:LP-MC\n",
       "magnetite_BangsLabs_11-nm 01-LP-CW-SIRM:LP-MC-DC-10390-3-25      LP-CW-SIRM:LP-MC\n",
       "magnetite_BangsLabs_11-nm 01-LP-CW-SIRM:LP-MC-DC-10390-3-26      LP-CW-SIRM:LP-MC\n",
       "magnetite_BangsLabs_11-nm 01-LP-CW-SIRM:LP-MC-DC-10390-3-27      LP-CW-SIRM:LP-MC\n",
       "magnetite_BangsLabs_11-nm 01-LP-CW-SIRM:LP-MC-DC-10390-3-28      LP-CW-SIRM:LP-MC\n",
       "magnetite_BangsLabs_11-nm 01-LP-CW-SIRM:LP-MC-DC-10390-3-29      LP-CW-SIRM:LP-MC\n",
       "magnetite_BangsLabs_11-nm 01-LP-CW-SIRM:LP-MC-DC-10390-3-30      LP-CW-SIRM:LP-MC\n",
       "magnetite_BangsLabs_11-nm 01-LP-CW-SIRM:LP-MC-DC-10390-3-31      LP-CW-SIRM:LP-MC\n",
       "magnetite_BangsLabs_11-nm 01-LP-CW-SIRM:LP-MC-DC-10390-3-32      LP-CW-SIRM:LP-MC\n",
       "magnetite_BangsLabs_11-nm 01-LP-CW-SIRM:LP-MC-DC-10390-3-33      LP-CW-SIRM:LP-MC\n",
       "magnetite_BangsLabs_11-nm 01-LP-CW-SIRM:LP-MC-DC-10390-3-34      LP-CW-SIRM:LP-MC\n",
       "magnetite_BangsLabs_11-nm 01-LP-CW-SIRM:LP-MC-DC-10390-3-35      LP-CW-SIRM:LP-MC\n",
       "magnetite_BangsLabs_11-nm 01-LP-CW-SIRM:LP-MC-DC-10390-3-36      LP-CW-SIRM:LP-MC\n",
       "magnetite_BangsLabs_11-nm 01-LP-CW-SIRM:LP-MC-DC-10390-3-37      LP-CW-SIRM:LP-MC\n",
       "magnetite_BangsLabs_11-nm 01-LP-CW-SIRM:LP-MC-DC-10390-3-38      LP-CW-SIRM:LP-MC\n",
       "magnetite_BangsLabs_11-nm 01-LP-CW-SIRM:LP-MC-DC-10390-3-39      LP-CW-SIRM:LP-MC\n",
       "magnetite_BangsLabs_11-nm 01-LP-CW-SIRM:LP-MC-DC-10390-3-40      LP-CW-SIRM:LP-MC\n",
       "magnetite_BangsLabs_11-nm 01-LP-CW-SIRM:LP-MC-DC-10390-3-41      LP-CW-SIRM:LP-MC\n",
       "magnetite_BangsLabs_11-nm 01-LP-CW-SIRM:LP-MC-DC-10390-3-42      LP-CW-SIRM:LP-MC\n",
       "magnetite_BangsLabs_11-nm 01-LP-CW-SIRM:LP-MC-DC-10390-3-43      LP-CW-SIRM:LP-MC\n",
       "magnetite_BangsLabs_11-nm 01-LP-CW-SIRM:LP-MC-DC-10390-3-44      LP-CW-SIRM:LP-MC\n",
       "magnetite_BangsLabs_11-nm 01-LP-CW-SIRM:LP-MC-DC-10390-3-45      LP-CW-SIRM:LP-MC\n",
       "magnetite_BangsLabs_11-nm 01-LP-CW-SIRM:LP-MC-DC-10390-3-46      LP-CW-SIRM:LP-MC\n",
       "magnetite_BangsLabs_11-nm 01-LP-CW-SIRM:LP-MC-DC-10390-3-47      LP-CW-SIRM:LP-MC\n",
       "magnetite_BangsLabs_11-nm 01-LP-CW-SIRM:LP-MC-DC-10390-3-48      LP-CW-SIRM:LP-MC\n",
       "magnetite_BangsLabs_11-nm 01-LP-CW-SIRM:LP-MC-DC-10390-3-49      LP-CW-SIRM:LP-MC\n",
       "magnetite_BangsLabs_11-nm 01-LP-CW-SIRM:LP-MC-DC-10390-3-50      LP-CW-SIRM:LP-MC\n",
       "magnetite_BangsLabs_11-nm 01-LP-CW-SIRM:LP-MC-DC-10390-3-51      LP-CW-SIRM:LP-MC\n",
       "magnetite_BangsLabs_11-nm 01-LP-CW-SIRM:LP-MC-DC-10390-3-52      LP-CW-SIRM:LP-MC\n",
       "magnetite_BangsLabs_11-nm 01-LP-CW-SIRM:LP-MC-DC-10390-3-53      LP-CW-SIRM:LP-MC\n",
       "magnetite_BangsLabs_11-nm 01-LP-CW-SIRM:LP-MC-DC-10390-3-54      LP-CW-SIRM:LP-MC\n",
       "magnetite_BangsLabs_11-nm 01-LP-CW-SIRM:LP-MC-DC-10390-3-55      LP-CW-SIRM:LP-MC\n",
       "magnetite_BangsLabs_11-nm 01-LP-CW-SIRM:LP-MC-DC-10390-3-56      LP-CW-SIRM:LP-MC\n",
       "magnetite_BangsLabs_11-nm 01-LP-CW-SIRM:LP-MW-DC-10390-4-0       LP-CW-SIRM:LP-MW\n",
       "magnetite_BangsLabs_11-nm 01-LP-CW-SIRM:LP-MW-DC-10390-4-1       LP-CW-SIRM:LP-MW\n",
       "magnetite_BangsLabs_11-nm 01-LP-CW-SIRM:LP-MW-DC-10390-4-2       LP-CW-SIRM:LP-MW\n",
       "magnetite_BangsLabs_11-nm 01-LP-CW-SIRM:LP-MW-DC-10390-4-3       LP-CW-SIRM:LP-MW\n",
       "magnetite_BangsLabs_11-nm 01-LP-CW-SIRM:LP-MW-DC-10390-4-4       LP-CW-SIRM:LP-MW\n",
       "magnetite_BangsLabs_11-nm 01-LP-CW-SIRM:LP-MW-DC-10390-4-5       LP-CW-SIRM:LP-MW\n",
       "magnetite_BangsLabs_11-nm 01-LP-CW-SIRM:LP-MW-DC-10390-4-6       LP-CW-SIRM:LP-MW\n",
       "magnetite_BangsLabs_11-nm 01-LP-CW-SIRM:LP-MW-DC-10390-4-7       LP-CW-SIRM:LP-MW\n",
       "magnetite_BangsLabs_11-nm 01-LP-CW-SIRM:LP-MW-DC-10390-4-8       LP-CW-SIRM:LP-MW\n",
       "magnetite_BangsLabs_11-nm 01-LP-CW-SIRM:LP-MW-DC-10390-4-9       LP-CW-SIRM:LP-MW\n",
       "magnetite_BangsLabs_11-nm 01-LP-CW-SIRM:LP-MW-DC-10390-4-10      LP-CW-SIRM:LP-MW\n",
       "magnetite_BangsLabs_11-nm 01-LP-CW-SIRM:LP-MW-DC-10390-4-11      LP-CW-SIRM:LP-MW\n",
       "magnetite_BangsLabs_11-nm 01-LP-CW-SIRM:LP-MW-DC-10390-4-12      LP-CW-SIRM:LP-MW\n",
       "magnetite_BangsLabs_11-nm 01-LP-CW-SIRM:LP-MW-DC-10390-4-13      LP-CW-SIRM:LP-MW\n",
       "magnetite_BangsLabs_11-nm 01-LP-CW-SIRM:LP-MW-DC-10390-4-14      LP-CW-SIRM:LP-MW\n",
       "magnetite_BangsLabs_11-nm 01-LP-CW-SIRM:LP-MW-DC-10390-4-15      LP-CW-SIRM:LP-MW\n",
       "magnetite_BangsLabs_11-nm 01-LP-CW-SIRM:LP-MW-DC-10390-4-16      LP-CW-SIRM:LP-MW\n",
       "magnetite_BangsLabs_11-nm 01-LP-CW-SIRM:LP-MW-DC-10390-4-17      LP-CW-SIRM:LP-MW\n",
       "magnetite_BangsLabs_11-nm 01-LP-CW-SIRM:LP-MW-DC-10390-4-18      LP-CW-SIRM:LP-MW\n",
       "magnetite_BangsLabs_11-nm 01-LP-CW-SIRM:LP-MW-DC-10390-4-19      LP-CW-SIRM:LP-MW\n",
       "magnetite_BangsLabs_11-nm 01-LP-CW-SIRM:LP-MW-DC-10390-4-20      LP-CW-SIRM:LP-MW\n",
       "magnetite_BangsLabs_11-nm 01-LP-CW-SIRM:LP-MW-DC-10390-4-21      LP-CW-SIRM:LP-MW\n",
       "magnetite_BangsLabs_11-nm 01-LP-CW-SIRM:LP-MW-DC-10390-4-22      LP-CW-SIRM:LP-MW\n",
       "magnetite_BangsLabs_11-nm 01-LP-CW-SIRM:LP-MW-DC-10390-4-23      LP-CW-SIRM:LP-MW\n",
       "magnetite_BangsLabs_11-nm 01-LP-CW-SIRM:LP-MW-DC-10390-4-24      LP-CW-SIRM:LP-MW\n",
       "magnetite_BangsLabs_11-nm 01-LP-CW-SIRM:LP-MW-DC-10390-4-25      LP-CW-SIRM:LP-MW\n",
       "magnetite_BangsLabs_11-nm 01-LP-CW-SIRM:LP-MW-DC-10390-4-26      LP-CW-SIRM:LP-MW\n",
       "magnetite_BangsLabs_11-nm 01-LP-CW-SIRM:LP-MW-DC-10390-4-27      LP-CW-SIRM:LP-MW\n",
       "magnetite_BangsLabs_11-nm 01-LP-CW-SIRM:LP-MW-DC-10390-4-28      LP-CW-SIRM:LP-MW\n",
       "magnetite_BangsLabs_11-nm 01-LP-CW-SIRM:LP-MW-DC-10390-4-29      LP-CW-SIRM:LP-MW\n",
       "magnetite_BangsLabs_11-nm 01-LP-CW-SIRM:LP-MW-DC-10390-4-30      LP-CW-SIRM:LP-MW\n",
       "magnetite_BangsLabs_11-nm 01-LP-CW-SIRM:LP-MW-DC-10390-4-31      LP-CW-SIRM:LP-MW\n",
       "magnetite_BangsLabs_11-nm 01-LP-CW-SIRM:LP-MW-DC-10390-4-32      LP-CW-SIRM:LP-MW\n",
       "magnetite_BangsLabs_11-nm 01-LP-CW-SIRM:LP-MW-DC-10390-4-33      LP-CW-SIRM:LP-MW\n",
       "magnetite_BangsLabs_11-nm 01-LP-CW-SIRM:LP-MW-DC-10390-4-34      LP-CW-SIRM:LP-MW\n",
       "magnetite_BangsLabs_11-nm 01-LP-CW-SIRM:LP-MW-DC-10390-4-35      LP-CW-SIRM:LP-MW\n",
       "magnetite_BangsLabs_11-nm 01-LP-CW-SIRM:LP-MW-DC-10390-4-36      LP-CW-SIRM:LP-MW\n",
       "magnetite_BangsLabs_11-nm 01-LP-CW-SIRM:LP-MW-DC-10390-4-37      LP-CW-SIRM:LP-MW\n",
       "magnetite_BangsLabs_11-nm 01-LP-CW-SIRM:LP-MW-DC-10390-4-38      LP-CW-SIRM:LP-MW\n",
       "magnetite_BangsLabs_11-nm 01-LP-CW-SIRM:LP-MW-DC-10390-4-39      LP-CW-SIRM:LP-MW\n",
       "magnetite_BangsLabs_11-nm 01-LP-CW-SIRM:LP-MW-DC-10390-4-40      LP-CW-SIRM:LP-MW\n",
       "magnetite_BangsLabs_11-nm 01-LP-CW-SIRM:LP-MW-DC-10390-4-41      LP-CW-SIRM:LP-MW\n",
       "magnetite_BangsLabs_11-nm 01-LP-CW-SIRM:LP-MW-DC-10390-4-42      LP-CW-SIRM:LP-MW\n",
       "magnetite_BangsLabs_11-nm 01-LP-CW-SIRM:LP-MW-DC-10390-4-43      LP-CW-SIRM:LP-MW\n",
       "magnetite_BangsLabs_11-nm 01-LP-CW-SIRM:LP-MW-DC-10390-4-44      LP-CW-SIRM:LP-MW\n",
       "magnetite_BangsLabs_11-nm 01-LP-CW-SIRM:LP-MW-DC-10390-4-45      LP-CW-SIRM:LP-MW\n",
       "magnetite_BangsLabs_11-nm 01-LP-CW-SIRM:LP-MW-DC-10390-4-46      LP-CW-SIRM:LP-MW\n",
       "magnetite_BangsLabs_11-nm 01-LP-CW-SIRM:LP-MW-DC-10390-4-47      LP-CW-SIRM:LP-MW\n",
       "magnetite_BangsLabs_11-nm 01-LP-CW-SIRM:LP-MW-DC-10390-4-48      LP-CW-SIRM:LP-MW\n",
       "magnetite_BangsLabs_11-nm 01-LP-CW-SIRM:LP-MW-DC-10390-4-49      LP-CW-SIRM:LP-MW\n",
       "magnetite_BangsLabs_11-nm 01-LP-CW-SIRM:LP-MW-DC-10390-4-50      LP-CW-SIRM:LP-MW\n",
       "magnetite_BangsLabs_11-nm 01-LP-CW-SIRM:LP-MW-DC-10390-4-51      LP-CW-SIRM:LP-MW\n",
       "magnetite_BangsLabs_11-nm 01-LP-CW-SIRM:LP-MW-DC-10390-4-52      LP-CW-SIRM:LP-MW\n",
       "magnetite_BangsLabs_11-nm 01-LP-CW-SIRM:LP-MW-DC-10390-4-53      LP-CW-SIRM:LP-MW\n",
       "magnetite_BangsLabs_11-nm 01-LP-CW-SIRM:LP-MW-DC-10390-4-54      LP-CW-SIRM:LP-MW\n",
       "magnetite_BangsLabs_11-nm 01-LP-CW-SIRM:LP-MW-DC-10390-4-55      LP-CW-SIRM:LP-MW\n",
       "magnetite_BangsLabs_11-nm 01-LP-CW-SIRM:LP-MW-DC-10390-4-56      LP-CW-SIRM:LP-MW\n",
       "Name: method_codes, dtype: object"
      ]
     },
     "execution_count": 7,
     "metadata": {},
     "output_type": "execute_result"
    }
   ],
   "source": [
    "measurements['method_codes']"
   ]
  },
  {
   "cell_type": "code",
   "execution_count": 8,
   "id": "41759c95",
   "metadata": {},
   "outputs": [],
   "source": [
    "contribution.tables['measurements'].df = measurements\n",
    "contribution.tables['specimens'].df = specimens\n",
    "contribution.tables['samples'].df = samples\n",
    "contribution.tables['sites'].df = sites\n",
    "contribution.tables['locations'].df = locations"
   ]
  },
  {
   "cell_type": "code",
   "execution_count": 9,
   "id": "4c5fcaf9",
   "metadata": {},
   "outputs": [
    {
     "name": "stdout",
     "output_type": "stream",
     "text": [
      "-I- overwriting /Users/yimingzhang/Github/RMB-nanophases/data/MagIC/locations.txt\n",
      "-I- 1 records written to locations file\n",
      "-I- overwriting /Users/yimingzhang/Github/RMB-nanophases/data/MagIC/sites.txt\n",
      "-I- 2 records written to sites file\n",
      "-I- overwriting /Users/yimingzhang/Github/RMB-nanophases/data/MagIC/samples.txt\n",
      "-I- 2 records written to samples file\n",
      "-I- overwriting /Users/yimingzhang/Github/RMB-nanophases/data/MagIC/specimens.txt\n",
      "-I- 2 records written to specimens file\n",
      "-I- overwriting /Users/yimingzhang/Github/RMB-nanophases/data/MagIC/measurements.txt\n",
      "-I- 430 records written to measurements file\n"
     ]
    },
    {
     "data": {
      "text/plain": [
       "'/Users/yimingzhang/Github/RMB-nanophases/data/MagIC/measurements.txt'"
      ]
     },
     "execution_count": 9,
     "metadata": {},
     "output_type": "execute_result"
    }
   ],
   "source": [
    "contribution.tables['locations'].write_magic_file(dir_path=MagIC_export_path,custom_name = \"locations.txt\")\n",
    "contribution.tables['sites'].write_magic_file(dir_path=MagIC_export_path,custom_name = \"sites.txt\")\n",
    "contribution.tables['samples'].write_magic_file(dir_path=MagIC_export_path,custom_name = \"samples.txt\")\n",
    "contribution.tables['specimens'].write_magic_file(dir_path=MagIC_export_path,custom_name = \"specimens.txt\")\n",
    "contribution.tables['measurements'].write_magic_file(dir_path=MagIC_export_path,custom_name = \"measurements.txt\")"
   ]
  },
  {
   "cell_type": "code",
   "execution_count": 10,
   "id": "90f7f82b",
   "metadata": {},
   "outputs": [
    {
     "name": "stdout",
     "output_type": "stream",
     "text": [
      "-I- /Users/yimingzhang/Github/RMB-nanophases/data/MagIC/locations.txt file successfully read in\n",
      "1  records written to file  /Users/yimingzhang/Github/RMB-nanophases/data/MagIC/upload.txt\n",
      "-I- /Users/yimingzhang/Github/RMB-nanophases/data/MagIC/locations.txt written to  /Users/yimingzhang/Github/RMB-nanophases/data/MagIC/upload.txt\n",
      "-I- /Users/yimingzhang/Github/RMB-nanophases/data/MagIC/samples.txt file successfully read in\n",
      "2  records written to file  /Users/yimingzhang/Github/RMB-nanophases/data/MagIC/upload.txt\n",
      "-I- /Users/yimingzhang/Github/RMB-nanophases/data/MagIC/samples.txt written to  /Users/yimingzhang/Github/RMB-nanophases/data/MagIC/upload.txt\n",
      "-I- /Users/yimingzhang/Github/RMB-nanophases/data/MagIC/specimens.txt file successfully read in\n",
      "2  records written to file  /Users/yimingzhang/Github/RMB-nanophases/data/MagIC/upload.txt\n",
      "-I- /Users/yimingzhang/Github/RMB-nanophases/data/MagIC/specimens.txt written to  /Users/yimingzhang/Github/RMB-nanophases/data/MagIC/upload.txt\n",
      "-I- /Users/yimingzhang/Github/RMB-nanophases/data/MagIC/sites.txt file successfully read in\n",
      "2  records written to file  /Users/yimingzhang/Github/RMB-nanophases/data/MagIC/upload.txt\n",
      "-I- /Users/yimingzhang/Github/RMB-nanophases/data/MagIC/sites.txt written to  /Users/yimingzhang/Github/RMB-nanophases/data/MagIC/upload.txt\n",
      "-I- /Users/yimingzhang/Github/RMB-nanophases/data/MagIC/measurements.txt file successfully read in\n",
      "-I- dropping these columns: external_database_ids from the /Users/yimingzhang/Github/RMB-nanophases/data/MagIC/measurements.txt table\n",
      "430  records written to file  /Users/yimingzhang/Github/RMB-nanophases/data/MagIC/upload.txt\n",
      "-I- /Users/yimingzhang/Github/RMB-nanophases/data/MagIC/measurements.txt written to  /Users/yimingzhang/Github/RMB-nanophases/data/MagIC/upload.txt\n",
      "Finished preparing upload file: /Users/yimingzhang/Github/RMB-nanophases/data/MagIC/RMB-nanophases_03.Jun.2025.txt \n",
      "Validating upload file with public endpoint\n",
      "status_code= 200\n"
     ]
    },
    {
     "data": {
      "text/plain": [
       "('/Users/yimingzhang/Github/RMB-nanophases/data/MagIC/RMB-nanophases_03.Jun.2025.txt',\n",
       " {'status': True,\n",
       "  'validation': {'errors': [], 'warnings': []},\n",
       "  'warnings': None},\n",
       " None,\n",
       " None)"
      ]
     },
     "execution_count": 10,
     "metadata": {},
     "output_type": "execute_result"
    }
   ],
   "source": [
    "ipmag.upload_magic(dir_path=MagIC_export_path,\n",
    "                   input_dir_path=MagIC_export_path)"
   ]
  },
  {
   "cell_type": "code",
   "execution_count": null,
   "id": "a80bd0a7",
   "metadata": {},
   "outputs": [],
   "source": []
  }
 ],
 "metadata": {
  "kernelspec": {
   "display_name": "base",
   "language": "python",
   "name": "python3"
  },
  "language_info": {
   "codemirror_mode": {
    "name": "ipython",
    "version": 3
   },
   "file_extension": ".py",
   "mimetype": "text/x-python",
   "name": "python",
   "nbconvert_exporter": "python",
   "pygments_lexer": "ipython3",
   "version": "3.10.16"
  }
 },
 "nbformat": 4,
 "nbformat_minor": 5
}
